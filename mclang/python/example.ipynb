{
 "cells": [
  {
   "cell_type": "code",
   "execution_count": 1,
   "id": "c54394c5",
   "metadata": {},
   "outputs": [
    {
     "data": {
      "text/plain": [
       "3.1406380562059946"
      ]
     },
     "execution_count": 1,
     "metadata": {},
     "output_type": "execute_result"
    }
   ],
   "source": [
    "import mcl\n",
    "mcl.approx_pi(1000)"
   ]
  },
  {
   "cell_type": "code",
   "execution_count": 14,
   "id": "149774c3",
   "metadata": {},
   "outputs": [
    {
     "name": "stdout",
     "output_type": "stream",
     "text": [
      "OPENQASM 2.0;\n",
      "include \"qelib1.inc\";\n",
      "qreg q[3];\n",
      "h q[2];\n",
      "h q[1];\n",
      "h q[0];\n",
      "h q[1];\n",
      "h q[1];\n",
      "rz(1.0*pi) q[1];\n",
      "h q[1];\n",
      "h q[0];\n",
      "cz q[0], q[1];\n",
      "\n",
      "q_0: ───H───H───────────────────@───\n",
      "                                │\n",
      "q_1: ───H───H───H───Rz(π)───H───@───\n",
      "\n",
      "q_2: ───H───────────────────────────\n",
      "// Generated from Cirq v0.12.0\n",
      "\n",
      "OPENQASM 2.0;\n",
      "include \"qelib1.inc\";\n",
      "\n",
      "\n",
      "// Qubits: [0, 1, 2]\n",
      "qreg q[3];\n",
      "\n",
      "\n",
      "h q[0];\n",
      "h q[1];\n",
      "h q[2];\n",
      "x q[1];\n",
      "cz q[0],q[1];\n",
      "\n",
      "0: ───H───────@───\n",
      "              │\n",
      "1: ───H───X───@───\n",
      "\n",
      "2: ───H───────────\n"
     ]
    }
   ],
   "source": [
    "import pyzx as zx\n",
    "import json\n",
    "\n",
    "# Allows us to visualize circuits from qasm\n",
    "from cirq.contrib.qasm_import import circuit_from_qasm\n",
    "\n",
    "\n",
    "ocaml_output = \"\"\"\n",
    "[\n",
    "  { \"Prep\": { \"on_qubits\": [ 0 ] } },\n",
    "  { \"Prep\": { \"on_qubits\": [ 1 ] } },\n",
    "  { \"Prep\": { \"on_qubits\": [ 2 ] } },\n",
    "  { \"XCorrect\": { \"on_qubits\": [ 1 ], \"signals\": [] } },\n",
    "  { \"Entangle\": { \"on_qubits\": [ 0, 1 ] } }\n",
    "]\n",
    "\"\"\"\n",
    "\n",
    "measure_string = \"\"\"\n",
    "  {\n",
    "    \"Measure\": {\n",
    "      \"on_qubits\": [ 0 ],\n",
    "      \"angle\": 0.0,\n",
    "      \"signal_s\": [],\n",
    "      \"signal_t\": []\n",
    "    }\n",
    "  }\n",
    "\"\"\"\n",
    "\n",
    "loaded_program = json.loads(ocaml_output)\n",
    "\n",
    "from mcl import ZXBuilder\n",
    "zx_graph = ZXBuilder(loaded_program)\n",
    "qasm = zx_graph.to_qasm()\n",
    "print(qasm)\n",
    "circuit = circuit_from_qasm(qasm)\n",
    "\n",
    "print(circuit)\n",
    "\n",
    "print(\"\\n\")\n",
    "\n",
    "from mcl import CirqBuilder\n",
    "circuit = CirqBuilder(loaded_program)\n",
    "qasm = circuit.to_qasm()\n",
    "print(qasm)\n",
    "print(circuit.to_circuit())"
   ]
  },
  {
   "cell_type": "code",
   "execution_count": null,
   "id": "5eff0dbf",
   "metadata": {},
   "outputs": [],
   "source": []
  }
 ],
 "metadata": {
  "kernelspec": {
   "display_name": "Python 3 (ipykernel)",
   "language": "python",
   "name": "python3"
  },
  "language_info": {
   "codemirror_mode": {
    "name": "ipython",
    "version": 3
   },
   "file_extension": ".py",
   "mimetype": "text/x-python",
   "name": "python",
   "nbconvert_exporter": "python",
   "pygments_lexer": "ipython3",
   "version": "3.8.5"
  }
 },
 "nbformat": 4,
 "nbformat_minor": 5
}
